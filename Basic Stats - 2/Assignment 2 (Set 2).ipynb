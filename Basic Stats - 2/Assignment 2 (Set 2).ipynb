{
 "cells": [
  {
   "cell_type": "code",
   "execution_count": 1,
   "id": "94b910f8",
   "metadata": {},
   "outputs": [],
   "source": [
    "import numpy as np\n",
    "from scipy import stats"
   ]
  },
  {
   "cell_type": "markdown",
   "id": "a6f78b10",
   "metadata": {},
   "source": [
    "#### Question 1"
   ]
  },
  {
   "cell_type": "code",
   "execution_count": 2,
   "id": "c0ecbc7a",
   "metadata": {},
   "outputs": [
    {
     "data": {
      "text/plain": [
       "0.26598552904870054"
      ]
     },
     "execution_count": 2,
     "metadata": {},
     "output_type": "execute_result"
    }
   ],
   "source": [
    "1-stats.norm.cdf(50,loc= 45, scale = 8)"
   ]
  },
  {
   "cell_type": "code",
   "execution_count": 3,
   "id": "e535b66b",
   "metadata": {},
   "outputs": [],
   "source": [
    "#Answer is option B"
   ]
  },
  {
   "cell_type": "markdown",
   "id": "955a7921",
   "metadata": {},
   "source": [
    "#### Quetion 2"
   ]
  },
  {
   "cell_type": "code",
   "execution_count": 4,
   "id": "7343070a",
   "metadata": {},
   "outputs": [],
   "source": [
    "#Statement A :More employees at the processing center are older than 44 than between 38 and 44. "
   ]
  },
  {
   "cell_type": "code",
   "execution_count": 7,
   "id": "59742f45",
   "metadata": {},
   "outputs": [
    {
     "data": {
      "text/plain": [
       "0.3413447460685429"
      ]
     },
     "execution_count": 7,
     "metadata": {},
     "output_type": "execute_result"
    }
   ],
   "source": [
    "#Probability of number of employees aged between 38 and 44 is\n",
    "#Area till X = 44 - Area till X=38(0.5 since it is mean)\n",
    "stats.norm.cdf(44, loc = 38, scale = 6) -0.5 "
   ]
  },
  {
   "cell_type": "code",
   "execution_count": 8,
   "id": "bccded6f",
   "metadata": {},
   "outputs": [
    {
     "data": {
      "text/plain": [
       "0.15865525393145707"
      ]
     },
     "execution_count": 8,
     "metadata": {},
     "output_type": "execute_result"
    }
   ],
   "source": [
    "#Probability of number employees aged greater than 44 is\n",
    "1-stats.norm.cdf(44, loc = 38, scale = 6)"
   ]
  },
  {
   "cell_type": "code",
   "execution_count": 9,
   "id": "1cd898db",
   "metadata": {},
   "outputs": [],
   "source": [
    "#Therfore Statement A is FALSE"
   ]
  },
  {
   "cell_type": "code",
   "execution_count": 10,
   "id": "2da7d990",
   "metadata": {},
   "outputs": [],
   "source": [
    "#Statement B: A training program for employees under the age of 30 at the center would be expected to attract about 36 employees. "
   ]
  },
  {
   "cell_type": "code",
   "execution_count": 11,
   "id": "9f365c37",
   "metadata": {},
   "outputs": [],
   "source": [
    "#Probability of number of employees under the age of 30 \n",
    "p = stats.norm.cdf(30, 38,6)"
   ]
  },
  {
   "cell_type": "code",
   "execution_count": 12,
   "id": "802bb9b5",
   "metadata": {},
   "outputs": [
    {
     "data": {
      "text/plain": [
       "36.0"
      ]
     },
     "execution_count": 12,
     "metadata": {},
     "output_type": "execute_result"
    }
   ],
   "source": [
    "# The total number of employees under the age of 30 is\n",
    "#Probability * Total number of employees\n",
    "np.round(p * 400) "
   ]
  },
  {
   "cell_type": "code",
   "execution_count": 13,
   "id": "5d8412e4",
   "metadata": {},
   "outputs": [],
   "source": [
    "#Therfore Statement B is TRUE"
   ]
  },
  {
   "cell_type": "markdown",
   "id": "05db03f4",
   "metadata": {},
   "source": [
    "#### Question 4"
   ]
  },
  {
   "cell_type": "code",
   "execution_count": 14,
   "id": "ffdb86e1",
   "metadata": {},
   "outputs": [],
   "source": [
    "# Given mean is 100 and standard deviation is 20\n"
   ]
  },
  {
   "cell_type": "code",
   "execution_count": 31,
   "id": "1cda142a",
   "metadata": {},
   "outputs": [
    {
     "data": {
      "text/plain": [
       "(48.48341392902199, 151.516586070978)"
      ]
     },
     "execution_count": 31,
     "metadata": {},
     "output_type": "execute_result"
    }
   ],
   "source": [
    "# Given mean is 100 and standard deviation is 20\n",
    "#Since we need Find two values, a and b, symmetric about the mean, such that the probability of the random variable taking a value between them is 0.99. \n",
    "stats.norm.interval(0.99,100,20)\n"
   ]
  },
  {
   "cell_type": "code",
   "execution_count": 16,
   "id": "aee41f76",
   "metadata": {},
   "outputs": [],
   "source": [
    "#Therefore the Answer is option D"
   ]
  },
  {
   "cell_type": "markdown",
   "id": "5f8b78cb",
   "metadata": {},
   "source": [
    "#### Question 5"
   ]
  },
  {
   "cell_type": "code",
   "execution_count": 17,
   "id": "5408f109",
   "metadata": {},
   "outputs": [],
   "source": [
    "import numpy as np\n",
    "from scipy import stats"
   ]
  },
  {
   "cell_type": "code",
   "execution_count": 18,
   "id": "93bf1ba6",
   "metadata": {},
   "outputs": [
    {
     "name": "stdout",
     "output_type": "stream",
     "text": [
      "Mean profit of the company is Rs 540 Million\n"
     ]
    }
   ],
   "source": [
    "# Mean profits from two different divisions of a company = Mean1 + Mean2\n",
    "mean = 5 +7\n",
    "print('Mean profit of the company is Rs', mean*45, 'Million')"
   ]
  },
  {
   "cell_type": "code",
   "execution_count": 19,
   "id": "995b09ed",
   "metadata": {},
   "outputs": [
    {
     "name": "stdout",
     "output_type": "stream",
     "text": [
      "The Standard deviation of Profit of the company is Rs 225.0 Million\n"
     ]
    }
   ],
   "source": [
    "# Variance of profits from two different divisions of a company = SD^2 = SD1^2 + SD2^2\n",
    "sd = np.sqrt(9+16)\n",
    "print('The Standard deviation of Profit of the company is Rs', sd*45,'Million')"
   ]
  },
  {
   "cell_type": "code",
   "execution_count": 20,
   "id": "e5f8d84e",
   "metadata": {},
   "outputs": [
    {
     "name": "stdout",
     "output_type": "stream",
     "text": [
      "The Range is (99.00810347848784, 980.9918965215122) in Million rupees\n"
     ]
    }
   ],
   "source": [
    "# A. Specify a Rupee range (centered on the mean) such that it contains 95% probability for the annual profit of the company.\n",
    "print('The Range is',stats.norm.interval(0.95,540,225),'in Million rupees')"
   ]
  },
  {
   "cell_type": "code",
   "execution_count": 21,
   "id": "b8d9efcc",
   "metadata": {},
   "outputs": [
    {
     "name": "stdout",
     "output_type": "stream",
     "text": [
      "5th percentile of profit (in Million Rupees) is 170.0\n"
     ]
    }
   ],
   "source": [
    "# B. Specify the 5th percentile of profit (in Rupees) for the company\n",
    "X= (stats.norm.ppf(0.05,loc=540,scale=225))\n",
    "print('5th percentile of profit (in Million Rupees) is',np.round(X,))"
   ]
  },
  {
   "cell_type": "code",
   "execution_count": 22,
   "id": "f5cdd2fc",
   "metadata": {},
   "outputs": [],
   "source": [
    "# C. Which of the two divisions has a larger probability of making a loss in a given year?"
   ]
  },
  {
   "cell_type": "code",
   "execution_count": 23,
   "id": "aa1b7afa",
   "metadata": {},
   "outputs": [
    {
     "data": {
      "text/plain": [
       "0.0477903522728147"
      ]
     },
     "execution_count": 23,
     "metadata": {},
     "output_type": "execute_result"
    }
   ],
   "source": [
    "# Probability of Division 1 making a loss P(X<0)\n",
    "stats.norm.cdf(0,5,3)"
   ]
  },
  {
   "cell_type": "code",
   "execution_count": 24,
   "id": "8daee064",
   "metadata": {},
   "outputs": [
    {
     "data": {
      "text/plain": [
       "0.040059156863817086"
      ]
     },
     "execution_count": 24,
     "metadata": {},
     "output_type": "execute_result"
    }
   ],
   "source": [
    "# Probability of Division 2 making a loss P(X<0)\n",
    "stats.norm.cdf(0,7,4)"
   ]
  },
  {
   "cell_type": "code",
   "execution_count": 25,
   "id": "839ccca9",
   "metadata": {},
   "outputs": [],
   "source": [
    "#Division 1 has a high probabiity of making loss"
   ]
  },
  {
   "cell_type": "code",
   "execution_count": null,
   "id": "f8c9d73b",
   "metadata": {},
   "outputs": [],
   "source": []
  }
 ],
 "metadata": {
  "kernelspec": {
   "display_name": "Python 3 (ipykernel)",
   "language": "python",
   "name": "python3"
  },
  "language_info": {
   "codemirror_mode": {
    "name": "ipython",
    "version": 3
   },
   "file_extension": ".py",
   "mimetype": "text/x-python",
   "name": "python",
   "nbconvert_exporter": "python",
   "pygments_lexer": "ipython3",
   "version": "3.9.13"
  }
 },
 "nbformat": 4,
 "nbformat_minor": 5
}
