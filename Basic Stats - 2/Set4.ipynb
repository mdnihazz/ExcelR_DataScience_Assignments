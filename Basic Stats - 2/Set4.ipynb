{
 "cells": [
  {
   "cell_type": "markdown",
   "id": "34c8a141",
   "metadata": {},
   "source": [
    "# Question 3"
   ]
  },
  {
   "cell_type": "markdown",
   "id": "6af82e1d",
   "metadata": {},
   "source": [
    "###### 3.\tAuditors at a small community bank randomly sample 100 withdrawal transactions made during the week at an ATM machine located near the bank’s main branch. Over the past 2 years, the average withdrawal amount has been 50 with a standard deviation of 40. Since audit investigations are typically expensive, the auditors decide to not initiate further investigations if the mean transaction amount of the sample is between 45 and 55. What is the probability that in any given week, there will be an investigation?\n",
    "\n"
   ]
  },
  {
   "cell_type": "code",
   "execution_count": 1,
   "id": "fc1635cc",
   "metadata": {},
   "outputs": [],
   "source": [
    "import numpy as np\n",
    "from scipy import stats"
   ]
  },
  {
   "cell_type": "code",
   "execution_count": 14,
   "id": "13eaf2d2",
   "metadata": {},
   "outputs": [],
   "source": [
    "#Defining a function for finding the value of 't' with a mean=50, std=40, n=100\n",
    "def t(x):\n",
    "    t = (x-50)/(40/np.sqrt(100))\n",
    "    return t"
   ]
  },
  {
   "cell_type": "code",
   "execution_count": 15,
   "id": "7fc8f59b",
   "metadata": {},
   "outputs": [],
   "source": [
    "#For finding the value probability of having an investigation we will find the area of t-distribution curve till 55 and 45 ,then subtract area of 45 with area of 55 , then subtract the answer from 1 (since the total area under curve is 1)\n",
    "prob =(1-(stats.t.cdf(t(55),99)-stats.t.cdf(t(45),99)))*100"
   ]
  },
  {
   "cell_type": "code",
   "execution_count": 16,
   "id": "9651f599",
   "metadata": {},
   "outputs": [
    {
     "name": "stdout",
     "output_type": "stream",
     "text": [
      "The probability of having an investigation by the auditors is 21.42 %\n"
     ]
    }
   ],
   "source": [
    "print('The probability of having an investigation by the auditors is',np.round(prob,2),'%')"
   ]
  },
  {
   "cell_type": "markdown",
   "id": "71a1b5b6",
   "metadata": {},
   "source": [
    "##### option D is the answer"
   ]
  },
  {
   "cell_type": "markdown",
   "id": "71ea3a4e",
   "metadata": {},
   "source": [
    "###### "
   ]
  },
  {
   "cell_type": "markdown",
   "id": "08ca2166",
   "metadata": {},
   "source": [
    "# Question 4"
   ]
  },
  {
   "cell_type": "markdown",
   "id": "8a363181",
   "metadata": {},
   "source": [
    "#### 4.\tThe auditors from the above example would like to maintain the probability of investigation to 5%. Which of the following represents the minimum number transactions that they should sample if they do not want to change the thresholds of 45 and 55? Assume that the sample statistics remain unchanged."
   ]
  },
  {
   "cell_type": "markdown",
   "id": "3b33a65e",
   "metadata": {},
   "source": [
    "###### Ans: Since the auditors want to keep the probability of investigation to 5% , that means 2.5% of the probability on either sides. Which means for the positive threshold of 55 we need to find the t-value for 97.5% confidence interval"
   ]
  },
  {
   "cell_type": "code",
   "execution_count": 32,
   "id": "b73ab5d5",
   "metadata": {},
   "outputs": [
    {
     "data": {
      "text/plain": [
       "1.9842169515086827"
      ]
     },
     "execution_count": 32,
     "metadata": {},
     "output_type": "execute_result"
    }
   ],
   "source": [
    "t=stats.t.ppf(0.975,99)\n",
    "t"
   ]
  },
  {
   "cell_type": "code",
   "execution_count": 35,
   "id": "7c34c19a",
   "metadata": {},
   "outputs": [
    {
     "data": {
      "text/plain": [
       "251.97548228188225"
      ]
     },
     "execution_count": 35,
     "metadata": {},
     "output_type": "execute_result"
    }
   ],
   "source": [
    "n=np.square(((t/5)*40)) #since t = (x-mu)/(s/sqrt(n))\n",
    "n"
   ]
  },
  {
   "cell_type": "code",
   "execution_count": 39,
   "id": "4b0b34d2",
   "metadata": {},
   "outputs": [
    {
     "name": "stdout",
     "output_type": "stream",
     "text": [
      "So the value of n to keep the probablity of investigation to 5% without changing the threshold values is 251.98 ~ 250\n"
     ]
    }
   ],
   "source": [
    "print('So the value of n to keep the probablity of investigation to 5% without changing the threshold values is', np.round(n,2), '~ 250')"
   ]
  },
  {
   "cell_type": "markdown",
   "id": "1c5d7260",
   "metadata": {},
   "source": [
    "###### option D"
   ]
  },
  {
   "cell_type": "code",
   "execution_count": null,
   "id": "eb05acaa",
   "metadata": {},
   "outputs": [],
   "source": []
  }
 ],
 "metadata": {
  "kernelspec": {
   "display_name": "Python 3 (ipykernel)",
   "language": "python",
   "name": "python3"
  },
  "language_info": {
   "codemirror_mode": {
    "name": "ipython",
    "version": 3
   },
   "file_extension": ".py",
   "mimetype": "text/x-python",
   "name": "python",
   "nbconvert_exporter": "python",
   "pygments_lexer": "ipython3",
   "version": "3.9.13"
  }
 },
 "nbformat": 4,
 "nbformat_minor": 5
}
