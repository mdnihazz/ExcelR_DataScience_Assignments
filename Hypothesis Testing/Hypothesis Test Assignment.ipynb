{
 "cells": [
  {
   "cell_type": "code",
   "execution_count": 1,
   "id": "6789e15c",
   "metadata": {},
   "outputs": [],
   "source": [
    "import pandas as pd\n",
    "import numpy as np\n",
    "import seaborn as sns\n",
    "import matplotlib.pyplot as plt\n",
    "from scipy import stats\n",
    "import statsmodels.api as sm"
   ]
  },
  {
   "cell_type": "markdown",
   "id": "4736f86c",
   "metadata": {},
   "source": [
    "# Question 1"
   ]
  },
  {
   "cell_type": "markdown",
   "id": "be0293a3",
   "metadata": {},
   "source": [
    "###   A F&B manager wants to determine whether there is any significant difference in the diameter of the cutlet between two units. A randomly selected sample of cutlets was collected from both units and measured. Analyze the data and draw inferences at 5% significance level. Please state the assumptions and tests that you carried out to check validity of the assumptions."
   ]
  },
  {
   "cell_type": "markdown",
   "id": "1956fba7",
   "metadata": {},
   "source": [
    "## Ans"
   ]
  },
  {
   "cell_type": "markdown",
   "id": "f8d27371",
   "metadata": {},
   "source": [
    "## Test to be conducted"
   ]
  },
  {
   "cell_type": "markdown",
   "id": "7285adf8",
   "metadata": {},
   "source": [
    "###### We are going to conduct 2-tailed 2-Sample test to carryout our Hypothesis Test"
   ]
  },
  {
   "cell_type": "markdown",
   "id": "1d2e249c",
   "metadata": {},
   "source": [
    "## The Assumptions are"
   ]
  },
  {
   "cell_type": "markdown",
   "id": "7b58d2b1",
   "metadata": {},
   "source": [
    "###### NULL HYPOTHESIS (H0) : µ1 = µ2\n"
   ]
  },
  {
   "cell_type": "markdown",
   "id": "94620d46",
   "metadata": {},
   "source": [
    "###### ALTERNATE HYPOTHESIS(H1): µ1 != µ2"
   ]
  },
  {
   "cell_type": "markdown",
   "id": "4122dfb2",
   "metadata": {},
   "source": [
    "###### Significance level is 5% and it is 2-tailed test so ɑ = 0.05/2"
   ]
  },
  {
   "cell_type": "markdown",
   "id": "fc6ec388",
   "metadata": {},
   "source": [
    "###### ɑ =  0.025"
   ]
  },
  {
   "cell_type": "markdown",
   "id": "106dd026",
   "metadata": {},
   "source": [
    "##### Importing Files"
   ]
  },
  {
   "cell_type": "code",
   "execution_count": 2,
   "id": "366954e1",
   "metadata": {},
   "outputs": [
    {
     "data": {
      "text/html": [
       "<div>\n",
       "<style scoped>\n",
       "    .dataframe tbody tr th:only-of-type {\n",
       "        vertical-align: middle;\n",
       "    }\n",
       "\n",
       "    .dataframe tbody tr th {\n",
       "        vertical-align: top;\n",
       "    }\n",
       "\n",
       "    .dataframe thead th {\n",
       "        text-align: right;\n",
       "    }\n",
       "</style>\n",
       "<table border=\"1\" class=\"dataframe\">\n",
       "  <thead>\n",
       "    <tr style=\"text-align: right;\">\n",
       "      <th></th>\n",
       "      <th>Unit A</th>\n",
       "      <th>Unit B</th>\n",
       "    </tr>\n",
       "  </thead>\n",
       "  <tbody>\n",
       "    <tr>\n",
       "      <th>0</th>\n",
       "      <td>6.8090</td>\n",
       "      <td>6.7703</td>\n",
       "    </tr>\n",
       "    <tr>\n",
       "      <th>1</th>\n",
       "      <td>6.4376</td>\n",
       "      <td>7.5093</td>\n",
       "    </tr>\n",
       "    <tr>\n",
       "      <th>2</th>\n",
       "      <td>6.9157</td>\n",
       "      <td>6.7300</td>\n",
       "    </tr>\n",
       "    <tr>\n",
       "      <th>3</th>\n",
       "      <td>7.3012</td>\n",
       "      <td>6.7878</td>\n",
       "    </tr>\n",
       "    <tr>\n",
       "      <th>4</th>\n",
       "      <td>7.4488</td>\n",
       "      <td>7.1522</td>\n",
       "    </tr>\n",
       "  </tbody>\n",
       "</table>\n",
       "</div>"
      ],
      "text/plain": [
       "   Unit A  Unit B\n",
       "0  6.8090  6.7703\n",
       "1  6.4376  7.5093\n",
       "2  6.9157  6.7300\n",
       "3  7.3012  6.7878\n",
       "4  7.4488  7.1522"
      ]
     },
     "execution_count": 2,
     "metadata": {},
     "output_type": "execute_result"
    }
   ],
   "source": [
    "cutlets = pd.read_csv('Cutlets.csv')\n",
    "cutlets.head()"
   ]
  },
  {
   "cell_type": "markdown",
   "id": "fbdfe2e6",
   "metadata": {},
   "source": [
    "##### Applying Descriptive Statistics"
   ]
  },
  {
   "cell_type": "code",
   "execution_count": 3,
   "id": "bf376576",
   "metadata": {},
   "outputs": [
    {
     "data": {
      "text/html": [
       "<div>\n",
       "<style scoped>\n",
       "    .dataframe tbody tr th:only-of-type {\n",
       "        vertical-align: middle;\n",
       "    }\n",
       "\n",
       "    .dataframe tbody tr th {\n",
       "        vertical-align: top;\n",
       "    }\n",
       "\n",
       "    .dataframe thead th {\n",
       "        text-align: right;\n",
       "    }\n",
       "</style>\n",
       "<table border=\"1\" class=\"dataframe\">\n",
       "  <thead>\n",
       "    <tr style=\"text-align: right;\">\n",
       "      <th></th>\n",
       "      <th>Unit A</th>\n",
       "      <th>Unit B</th>\n",
       "    </tr>\n",
       "  </thead>\n",
       "  <tbody>\n",
       "    <tr>\n",
       "      <th>count</th>\n",
       "      <td>35.000000</td>\n",
       "      <td>35.000000</td>\n",
       "    </tr>\n",
       "    <tr>\n",
       "      <th>mean</th>\n",
       "      <td>7.019091</td>\n",
       "      <td>6.964297</td>\n",
       "    </tr>\n",
       "    <tr>\n",
       "      <th>std</th>\n",
       "      <td>0.288408</td>\n",
       "      <td>0.343401</td>\n",
       "    </tr>\n",
       "    <tr>\n",
       "      <th>min</th>\n",
       "      <td>6.437600</td>\n",
       "      <td>6.038000</td>\n",
       "    </tr>\n",
       "    <tr>\n",
       "      <th>25%</th>\n",
       "      <td>6.831500</td>\n",
       "      <td>6.753600</td>\n",
       "    </tr>\n",
       "    <tr>\n",
       "      <th>50%</th>\n",
       "      <td>6.943800</td>\n",
       "      <td>6.939900</td>\n",
       "    </tr>\n",
       "    <tr>\n",
       "      <th>75%</th>\n",
       "      <td>7.280550</td>\n",
       "      <td>7.195000</td>\n",
       "    </tr>\n",
       "    <tr>\n",
       "      <th>max</th>\n",
       "      <td>7.516900</td>\n",
       "      <td>7.545900</td>\n",
       "    </tr>\n",
       "  </tbody>\n",
       "</table>\n",
       "</div>"
      ],
      "text/plain": [
       "          Unit A     Unit B\n",
       "count  35.000000  35.000000\n",
       "mean    7.019091   6.964297\n",
       "std     0.288408   0.343401\n",
       "min     6.437600   6.038000\n",
       "25%     6.831500   6.753600\n",
       "50%     6.943800   6.939900\n",
       "75%     7.280550   7.195000\n",
       "max     7.516900   7.545900"
      ]
     },
     "execution_count": 3,
     "metadata": {},
     "output_type": "execute_result"
    }
   ],
   "source": [
    "cutlets.describe()"
   ]
  },
  {
   "cell_type": "markdown",
   "id": "922486c6",
   "metadata": {},
   "source": [
    "##### Checking the data type"
   ]
  },
  {
   "cell_type": "code",
   "execution_count": 4,
   "id": "13483664",
   "metadata": {},
   "outputs": [
    {
     "name": "stdout",
     "output_type": "stream",
     "text": [
      "<class 'pandas.core.frame.DataFrame'>\n",
      "RangeIndex: 35 entries, 0 to 34\n",
      "Data columns (total 2 columns):\n",
      " #   Column  Non-Null Count  Dtype  \n",
      "---  ------  --------------  -----  \n",
      " 0   Unit A  35 non-null     float64\n",
      " 1   Unit B  35 non-null     float64\n",
      "dtypes: float64(2)\n",
      "memory usage: 688.0 bytes\n"
     ]
    }
   ],
   "source": [
    "cutlets.info()"
   ]
  },
  {
   "cell_type": "markdown",
   "id": "236923c5",
   "metadata": {},
   "source": [
    "##### Checking Null Values"
   ]
  },
  {
   "cell_type": "code",
   "execution_count": 5,
   "id": "b3614c00",
   "metadata": {},
   "outputs": [
    {
     "data": {
      "text/plain": [
       "Unit A    0\n",
       "Unit B    0\n",
       "dtype: int64"
      ]
     },
     "execution_count": 5,
     "metadata": {},
     "output_type": "execute_result"
    }
   ],
   "source": [
    "cutlets.isnull().sum()"
   ]
  },
  {
   "cell_type": "markdown",
   "id": "b41ea9fb",
   "metadata": {},
   "source": [
    "##### Checking Duplicate Values"
   ]
  },
  {
   "cell_type": "code",
   "execution_count": 6,
   "id": "d02ff3b0",
   "metadata": {},
   "outputs": [
    {
     "data": {
      "text/plain": [
       "(0, 2)"
      ]
     },
     "execution_count": 6,
     "metadata": {},
     "output_type": "execute_result"
    }
   ],
   "source": [
    "cutlets[cutlets.duplicated()].shape"
   ]
  },
  {
   "cell_type": "code",
   "execution_count": 7,
   "id": "c7958179",
   "metadata": {},
   "outputs": [
    {
     "data": {
      "text/html": [
       "<div>\n",
       "<style scoped>\n",
       "    .dataframe tbody tr th:only-of-type {\n",
       "        vertical-align: middle;\n",
       "    }\n",
       "\n",
       "    .dataframe tbody tr th {\n",
       "        vertical-align: top;\n",
       "    }\n",
       "\n",
       "    .dataframe thead th {\n",
       "        text-align: right;\n",
       "    }\n",
       "</style>\n",
       "<table border=\"1\" class=\"dataframe\">\n",
       "  <thead>\n",
       "    <tr style=\"text-align: right;\">\n",
       "      <th></th>\n",
       "      <th>Unit A</th>\n",
       "      <th>Unit B</th>\n",
       "    </tr>\n",
       "  </thead>\n",
       "  <tbody>\n",
       "  </tbody>\n",
       "</table>\n",
       "</div>"
      ],
      "text/plain": [
       "Empty DataFrame\n",
       "Columns: [Unit A, Unit B]\n",
       "Index: []"
      ]
     },
     "execution_count": 7,
     "metadata": {},
     "output_type": "execute_result"
    }
   ],
   "source": [
    "cutlets[cutlets.duplicated()]"
   ]
  },
  {
   "cell_type": "markdown",
   "id": "0218bf02",
   "metadata": {},
   "source": [
    "###### Plotting data"
   ]
  },
  {
   "cell_type": "code",
   "execution_count": 8,
   "id": "5d6bea0c",
   "metadata": {},
   "outputs": [
    {
     "data": {
      "image/png": "[encoded data removed]",
      "text/plain": [
       "<Figure size 500x500 with 2 Axes>"
      ]
     },
     "metadata": {},
     "output_type": "display_data"
    }
   ],
   "source": [
    "plt.subplots(figsize=(5,5))\n",
    "plt.subplot(121)\n",
    "plt.boxplot(cutlets['Unit A'])\n",
    "plt.title('Unit A')\n",
    "plt.subplot(122)\n",
    "plt.boxplot(cutlets['Unit B'])\n",
    "plt.title('Unit B')\n",
    "plt.show()\n"
   ]
  },
  {
   "cell_type": "code",
   "execution_count": 9,
   "id": "4c0198a8",
   "metadata": {},
   "outputs": [
    {
     "data": {
      "text/plain": [
       "Text(0.5, 1.0, 'Unit B')"
      ]
     },
     "execution_count": 9,
     "metadata": {},
     "output_type": "execute_result"
    },
    {
     "data": {
      "image/png": "[encoded data removed]",
      "text/plain": [
       "<Figure size 900x600 with 2 Axes>"
      ]
     },
     "metadata": {},
     "output_type": "display_data"
    }
   ],
   "source": [
    "plt.subplots(figsize=(9,6))\n",
    "plt.subplot(121)\n",
    "plt.hist(cutlets['Unit A'], bins=10)\n",
    "plt.title('Unit A')\n",
    "plt.subplot(122)\n",
    "plt.hist(cutlets['Unit B'],bins=10)\n",
    "plt.title('Unit B')"
   ]
  },
  {
   "cell_type": "code",
   "execution_count": 10,
   "id": "b9307ccc",
   "metadata": {},
   "outputs": [
    {
     "name": "stderr",
     "output_type": "stream",
     "text": [
      "C:\\Users\\nihaz\\anaconda3\\lib\\site-packages\\seaborn\\distributions.py:2619: FutureWarning: `distplot` is a deprecated function and will be removed in a future version. Please adapt your code to use either `displot` (a figure-level function with similar flexibility) or `histplot` (an axes-level function for histograms).\n",
      "  warnings.warn(msg, FutureWarning)\n",
      "C:\\Users\\nihaz\\anaconda3\\lib\\site-packages\\seaborn\\distributions.py:2619: FutureWarning: `distplot` is a deprecated function and will be removed in a future version. Please adapt your code to use either `displot` (a figure-level function with similar flexibility) or `histplot` (an axes-level function for histograms).\n",
      "  warnings.warn(msg, FutureWarning)\n"
     ]
    },
    {
     "data": {
      "text/plain": [
       "<matplotlib.legend.Legend at 0x14f193b89d0>"
      ]
     },
     "execution_count": 10,
     "metadata": {},
     "output_type": "execute_result"
    },
    {
     "data": {
      "image/png": "[encoded data removed]",
      "text/plain": [
       "<Figure size 500x500 with 1 Axes>"
      ]
     },
     "metadata": {},
     "output_type": "display_data"
    }
   ],
   "source": [
    "plt.figure(figsize=(5,5))\n",
    "labels=['Unit A','Unit B']\n",
    "sns.distplot(cutlets['Unit A'], kde=True)\n",
    "sns.distplot(cutlets['Unit B'], kde=True)\n",
    "plt.legend(labels)"
   ]
  },
  {
   "cell_type": "markdown",
   "id": "878d9fde",
   "metadata": {},
   "source": [
    "#### Compare Evidences with Hypothesis using t-statistics"
   ]
  },
  {
   "cell_type": "code",
   "execution_count": 11,
   "id": "4d01b2b7",
   "metadata": {},
   "outputs": [
    {
     "name": "stdout",
     "output_type": "stream",
     "text": [
      "p-value is : 0.4722394724599501\n"
     ]
    }
   ],
   "source": [
    "t_stat, p_value = stats.ttest_ind(cutlets['Unit A'], cutlets['Unit B'], alternative='two-sided')\n",
    "print('p-value is :',p_value)"
   ]
  },
  {
   "cell_type": "markdown",
   "id": "ecfa833b",
   "metadata": {},
   "source": [
    "### Compare p-value and Significance level(alpha)"
   ]
  },
  {
   "cell_type": "markdown",
   "id": "f148adaf",
   "metadata": {},
   "source": [
    "###### If p-value < ɑ , Reject NULL Hypothesis"
   ]
  },
  {
   "cell_type": "markdown",
   "id": "04a11f76",
   "metadata": {},
   "source": [
    "###### If p-value >ɑ , Accept NULL Hypothesis"
   ]
  },
  {
   "cell_type": "code",
   "execution_count": 12,
   "id": "572febc4",
   "metadata": {},
   "outputs": [
    {
     "name": "stdout",
     "output_type": "stream",
     "text": [
      "Significance = 0.025 and p-value = 0.472\n",
      "We Fail to Reject NULL Hypothesis, There is suffient evidence to say the two Units do not have a significant Difference\n"
     ]
    }
   ],
   "source": [
    "alpha = 0.025\n",
    "print('Significance = %.3f and p-value = %.3f'%(alpha,p_value))\n",
    "if p_value <= alpha:\n",
    "    print('We Reject NULL Hypothesis, There is suffient evidence to say the two Units have a significant Difference')\n",
    "else:\n",
    "    print('We Fail to Reject NULL Hypothesis, There is suffient evidence to say the two Units do not have a significant Difference')"
   ]
  },
  {
   "cell_type": "markdown",
   "id": "633b643c",
   "metadata": {},
   "source": [
    "# "
   ]
  },
  {
   "cell_type": "markdown",
   "id": "e7b92206",
   "metadata": {},
   "source": [
    "# "
   ]
  },
  {
   "cell_type": "markdown",
   "id": "f68e1087",
   "metadata": {},
   "source": [
    "# Question 2 "
   ]
  },
  {
   "cell_type": "markdown",
   "id": "228cbf8c",
   "metadata": {},
   "source": [
    "### A hospital wants to determine whether there is any difference in the average Turn Around Time (TAT) of reports of the laboratories on their preferred list. They collected a random sample and recorded TAT for reports of 4 laboratories. TAT is defined as sample collected to report dispatch.Analyze the data and determine whether there is any difference in average TAT among the different laboratories at 5% significance level.\n",
    " \n"
   ]
  },
  {
   "cell_type": "markdown",
   "id": "213d3332",
   "metadata": {},
   "source": [
    "###### ANS : We are going to use ANOVA test for this problem"
   ]
  },
  {
   "cell_type": "markdown",
   "id": "7b68db2b",
   "metadata": {},
   "source": [
    "#### Assumptions"
   ]
  },
  {
   "cell_type": "markdown",
   "id": "708ab9dc",
   "metadata": {},
   "source": [
    "###### The NULL Hypothesis(H0): There is no diiference between all the laboratory samples"
   ]
  },
  {
   "cell_type": "markdown",
   "id": "6b2dcf1c",
   "metadata": {},
   "source": [
    "###### The ALTERNATE Hypothesis(H1): Atleast one sample  is different"
   ]
  },
  {
   "cell_type": "markdown",
   "id": "f3de1c72",
   "metadata": {},
   "source": [
    "###### The Significance level is 5% which means ɑ = 0.05"
   ]
  },
  {
   "cell_type": "markdown",
   "id": "deaaebe4",
   "metadata": {},
   "source": [
    "###### Import data"
   ]
  },
  {
   "cell_type": "code",
   "execution_count": 13,
   "id": "3c922f25",
   "metadata": {},
   "outputs": [
    {
     "data": {
      "text/html": [
       "<div>\n",
       "<style scoped>\n",
       "    .dataframe tbody tr th:only-of-type {\n",
       "        vertical-align: middle;\n",
       "    }\n",
       "\n",
       "    .dataframe tbody tr th {\n",
       "        vertical-align: top;\n",
       "    }\n",
       "\n",
       "    .dataframe thead th {\n",
       "        text-align: right;\n",
       "    }\n",
       "</style>\n",
       "<table border=\"1\" class=\"dataframe\">\n",
       "  <thead>\n",
       "    <tr style=\"text-align: right;\">\n",
       "      <th></th>\n",
       "      <th>Laboratory 1</th>\n",
       "      <th>Laboratory 2</th>\n",
       "      <th>Laboratory 3</th>\n",
       "      <th>Laboratory 4</th>\n",
       "    </tr>\n",
       "  </thead>\n",
       "  <tbody>\n",
       "    <tr>\n",
       "      <th>0</th>\n",
       "      <td>185.35</td>\n",
       "      <td>165.53</td>\n",
       "      <td>176.70</td>\n",
       "      <td>166.13</td>\n",
       "    </tr>\n",
       "    <tr>\n",
       "      <th>1</th>\n",
       "      <td>170.49</td>\n",
       "      <td>185.91</td>\n",
       "      <td>198.45</td>\n",
       "      <td>160.79</td>\n",
       "    </tr>\n",
       "    <tr>\n",
       "      <th>2</th>\n",
       "      <td>192.77</td>\n",
       "      <td>194.92</td>\n",
       "      <td>201.23</td>\n",
       "      <td>185.18</td>\n",
       "    </tr>\n",
       "    <tr>\n",
       "      <th>3</th>\n",
       "      <td>177.33</td>\n",
       "      <td>183.00</td>\n",
       "      <td>199.61</td>\n",
       "      <td>176.42</td>\n",
       "    </tr>\n",
       "    <tr>\n",
       "      <th>4</th>\n",
       "      <td>193.41</td>\n",
       "      <td>169.57</td>\n",
       "      <td>204.63</td>\n",
       "      <td>152.60</td>\n",
       "    </tr>\n",
       "  </tbody>\n",
       "</table>\n",
       "</div>"
      ],
      "text/plain": [
       "   Laboratory 1  Laboratory 2  Laboratory 3  Laboratory 4\n",
       "0        185.35        165.53        176.70        166.13\n",
       "1        170.49        185.91        198.45        160.79\n",
       "2        192.77        194.92        201.23        185.18\n",
       "3        177.33        183.00        199.61        176.42\n",
       "4        193.41        169.57        204.63        152.60"
      ]
     },
     "execution_count": 13,
     "metadata": {},
     "output_type": "execute_result"
    }
   ],
   "source": [
    "lab = pd.read_csv('LabTAT.csv')\n",
    "lab.head()"
   ]
  },
  {
   "cell_type": "markdown",
   "id": "05b1e53d",
   "metadata": {},
   "source": [
    "###### Checking Datatypes"
   ]
  },
  {
   "cell_type": "code",
   "execution_count": 14,
   "id": "76169f95",
   "metadata": {},
   "outputs": [
    {
     "name": "stdout",
     "output_type": "stream",
     "text": [
      "<class 'pandas.core.frame.DataFrame'>\n",
      "RangeIndex: 120 entries, 0 to 119\n",
      "Data columns (total 4 columns):\n",
      " #   Column        Non-Null Count  Dtype  \n",
      "---  ------        --------------  -----  \n",
      " 0   Laboratory 1  120 non-null    float64\n",
      " 1   Laboratory 2  120 non-null    float64\n",
      " 2   Laboratory 3  120 non-null    float64\n",
      " 3   Laboratory 4  120 non-null    float64\n",
      "dtypes: float64(4)\n",
      "memory usage: 3.9 KB\n"
     ]
    }
   ],
   "source": [
    "lab.info()"
   ]
  },
  {
   "cell_type": "markdown",
   "id": "2e499f2b",
   "metadata": {},
   "source": [
    "###### Checking for NULL values"
   ]
  },
  {
   "cell_type": "code",
   "execution_count": 15,
   "id": "8a652094",
   "metadata": {},
   "outputs": [
    {
     "data": {
      "text/plain": [
       "Laboratory 1    0\n",
       "Laboratory 2    0\n",
       "Laboratory 3    0\n",
       "Laboratory 4    0\n",
       "dtype: int64"
      ]
     },
     "execution_count": 15,
     "metadata": {},
     "output_type": "execute_result"
    }
   ],
   "source": [
    "lab.isnull().sum()"
   ]
  },
  {
   "cell_type": "markdown",
   "id": "cb2a707e",
   "metadata": {},
   "source": [
    "###### Checking for Duplicate Values"
   ]
  },
  {
   "cell_type": "code",
   "execution_count": 16,
   "id": "abae18ca",
   "metadata": {},
   "outputs": [
    {
     "data": {
      "text/plain": [
       "(0, 4)"
      ]
     },
     "execution_count": 16,
     "metadata": {},
     "output_type": "execute_result"
    }
   ],
   "source": [
    "lab[lab.duplicated()].shape"
   ]
  },
  {
   "cell_type": "markdown",
   "id": "f9901538",
   "metadata": {},
   "source": [
    "###### Descriptive Statistics"
   ]
  },
  {
   "cell_type": "code",
   "execution_count": 17,
   "id": "31fbf791",
   "metadata": {},
   "outputs": [
    {
     "data": {
      "text/html": [
       "<div>\n",
       "<style scoped>\n",
       "    .dataframe tbody tr th:only-of-type {\n",
       "        vertical-align: middle;\n",
       "    }\n",
       "\n",
       "    .dataframe tbody tr th {\n",
       "        vertical-align: top;\n",
       "    }\n",
       "\n",
       "    .dataframe thead th {\n",
       "        text-align: right;\n",
       "    }\n",
       "</style>\n",
       "<table border=\"1\" class=\"dataframe\">\n",
       "  <thead>\n",
       "    <tr style=\"text-align: right;\">\n",
       "      <th></th>\n",
       "      <th>Laboratory 1</th>\n",
       "      <th>Laboratory 2</th>\n",
       "      <th>Laboratory 3</th>\n",
       "      <th>Laboratory 4</th>\n",
       "    </tr>\n",
       "  </thead>\n",
       "  <tbody>\n",
       "    <tr>\n",
       "      <th>count</th>\n",
       "      <td>120.000000</td>\n",
       "      <td>120.000000</td>\n",
       "      <td>120.000000</td>\n",
       "      <td>120.00000</td>\n",
       "    </tr>\n",
       "    <tr>\n",
       "      <th>mean</th>\n",
       "      <td>178.361583</td>\n",
       "      <td>178.902917</td>\n",
       "      <td>199.913250</td>\n",
       "      <td>163.68275</td>\n",
       "    </tr>\n",
       "    <tr>\n",
       "      <th>std</th>\n",
       "      <td>13.173594</td>\n",
       "      <td>14.957114</td>\n",
       "      <td>16.539033</td>\n",
       "      <td>15.08508</td>\n",
       "    </tr>\n",
       "    <tr>\n",
       "      <th>min</th>\n",
       "      <td>138.300000</td>\n",
       "      <td>140.550000</td>\n",
       "      <td>159.690000</td>\n",
       "      <td>124.06000</td>\n",
       "    </tr>\n",
       "    <tr>\n",
       "      <th>25%</th>\n",
       "      <td>170.335000</td>\n",
       "      <td>168.025000</td>\n",
       "      <td>188.232500</td>\n",
       "      <td>154.05000</td>\n",
       "    </tr>\n",
       "    <tr>\n",
       "      <th>50%</th>\n",
       "      <td>178.530000</td>\n",
       "      <td>178.870000</td>\n",
       "      <td>199.805000</td>\n",
       "      <td>164.42500</td>\n",
       "    </tr>\n",
       "    <tr>\n",
       "      <th>75%</th>\n",
       "      <td>186.535000</td>\n",
       "      <td>189.112500</td>\n",
       "      <td>211.332500</td>\n",
       "      <td>172.88250</td>\n",
       "    </tr>\n",
       "    <tr>\n",
       "      <th>max</th>\n",
       "      <td>216.390000</td>\n",
       "      <td>217.860000</td>\n",
       "      <td>238.700000</td>\n",
       "      <td>205.18000</td>\n",
       "    </tr>\n",
       "  </tbody>\n",
       "</table>\n",
       "</div>"
      ],
      "text/plain": [
       "       Laboratory 1  Laboratory 2  Laboratory 3  Laboratory 4\n",
       "count    120.000000    120.000000    120.000000     120.00000\n",
       "mean     178.361583    178.902917    199.913250     163.68275\n",
       "std       13.173594     14.957114     16.539033      15.08508\n",
       "min      138.300000    140.550000    159.690000     124.06000\n",
       "25%      170.335000    168.025000    188.232500     154.05000\n",
       "50%      178.530000    178.870000    199.805000     164.42500\n",
       "75%      186.535000    189.112500    211.332500     172.88250\n",
       "max      216.390000    217.860000    238.700000     205.18000"
      ]
     },
     "execution_count": 17,
     "metadata": {},
     "output_type": "execute_result"
    }
   ],
   "source": [
    "lab.describe()"
   ]
  },
  {
   "cell_type": "markdown",
   "id": "0aa5ce07",
   "metadata": {},
   "source": [
    "###### Plotting the data"
   ]
  },
  {
   "cell_type": "code",
   "execution_count": 18,
   "id": "cea2862a",
   "metadata": {},
   "outputs": [
    {
     "data": {
      "image/png": "[encoded data removed]",
      "text/plain": [
       "<Figure size 800x800 with 4 Axes>"
      ]
     },
     "metadata": {},
     "output_type": "display_data"
    }
   ],
   "source": [
    "plt.subplots(figsize=(8,8))\n",
    "plt.subplot(221)\n",
    "plt.boxplot(lab['Laboratory 1'])\n",
    "plt.title('Lab 1')\n",
    "plt.subplot(222)\n",
    "plt.boxplot(lab['Laboratory 2'])\n",
    "plt.title('Lab 2')\n",
    "plt.subplot(223)\n",
    "plt.boxplot(lab['Laboratory 3'])\n",
    "plt.title('Lab 3')\n",
    "plt.subplot(224)\n",
    "plt.boxplot(lab['Laboratory 4'])\n",
    "plt.title('Lab 4')\n",
    "plt.show()"
   ]
  },
  {
   "cell_type": "code",
   "execution_count": 19,
   "id": "4ebf530f",
   "metadata": {},
   "outputs": [
    {
     "name": "stderr",
     "output_type": "stream",
     "text": [
      "C:\\Users\\nihaz\\anaconda3\\lib\\site-packages\\seaborn\\distributions.py:2619: FutureWarning: `distplot` is a deprecated function and will be removed in a future version. Please adapt your code to use either `displot` (a figure-level function with similar flexibility) or `histplot` (an axes-level function for histograms).\n",
      "  warnings.warn(msg, FutureWarning)\n",
      "C:\\Users\\nihaz\\anaconda3\\lib\\site-packages\\seaborn\\distributions.py:2619: FutureWarning: `distplot` is a deprecated function and will be removed in a future version. Please adapt your code to use either `displot` (a figure-level function with similar flexibility) or `histplot` (an axes-level function for histograms).\n",
      "  warnings.warn(msg, FutureWarning)\n",
      "C:\\Users\\nihaz\\anaconda3\\lib\\site-packages\\seaborn\\distributions.py:2619: FutureWarning: `distplot` is a deprecated function and will be removed in a future version. Please adapt your code to use either `displot` (a figure-level function with similar flexibility) or `histplot` (an axes-level function for histograms).\n",
      "  warnings.warn(msg, FutureWarning)\n",
      "C:\\Users\\nihaz\\anaconda3\\lib\\site-packages\\seaborn\\distributions.py:2619: FutureWarning: `distplot` is a deprecated function and will be removed in a future version. Please adapt your code to use either `displot` (a figure-level function with similar flexibility) or `histplot` (an axes-level function for histograms).\n",
      "  warnings.warn(msg, FutureWarning)\n"
     ]
    },
    {
     "data": {
      "image/png": "[encoded data removed]",
      "text/plain": [
       "<Figure size 500x500 with 1 Axes>"
      ]
     },
     "metadata": {},
     "output_type": "display_data"
    }
   ],
   "source": [
    "plt.subplots(figsize=(5,5))\n",
    "labels = ['Lab 1','Lab 2','Lab 3','Lab 4']\n",
    "sns.distplot(lab['Laboratory 1'], kde=True)\n",
    "sns.distplot(lab['Laboratory 2'], hist=True)\n",
    "sns.distplot(lab['Laboratory 3'], hist=True)\n",
    "sns.distplot(lab['Laboratory 4'], hist=True)\n",
    "plt.legend(labels)\n",
    "plt.show()"
   ]
  },
  {
   "cell_type": "code",
   "execution_count": 20,
   "id": "72b80a94",
   "metadata": {},
   "outputs": [
    {
     "data": {
      "image/png": "[encoded data removed]",
      "text/plain": [
       "<Figure size 800x800 with 4 Axes>"
      ]
     },
     "metadata": {},
     "output_type": "display_data"
    }
   ],
   "source": [
    "plt.subplots(figsize=(8,8))\n",
    "plt.subplot(221)\n",
    "plt.hist(lab['Laboratory 1'],bins=10)\n",
    "plt.title('Lab 1')\n",
    "plt.subplot(222)\n",
    "plt.hist(lab['Laboratory 2'],bins=10)\n",
    "plt.title('Lab 2')\n",
    "plt.subplot(223)\n",
    "plt.hist(lab['Laboratory 3'],bins=10)\n",
    "plt.title('Lab 3')\n",
    "plt.subplot(224)\n",
    "plt.hist(lab['Laboratory 4'],bins=10)\n",
    "plt.title('Lab 4')\n",
    "plt.show()"
   ]
  },
  {
   "cell_type": "markdown",
   "id": "1e362f75",
   "metadata": {},
   "source": [
    "###### Hypothesis Test"
   ]
  },
  {
   "cell_type": "code",
   "execution_count": 21,
   "id": "5b7270bb",
   "metadata": {},
   "outputs": [
    {
     "data": {
      "text/plain": [
       "2.1156708949992414e-57"
      ]
     },
     "execution_count": 21,
     "metadata": {},
     "output_type": "execute_result"
    }
   ],
   "source": [
    "t_stat, p_value = stats.f_oneway(lab.iloc[:,0],lab.iloc[:,1],lab.iloc[:,2],lab.iloc[:,3])\n",
    "p_value"
   ]
  },
  {
   "cell_type": "code",
   "execution_count": 22,
   "id": "40f4022a",
   "metadata": {},
   "outputs": [
    {
     "name": "stdout",
     "output_type": "stream",
     "text": [
      "The Significance level (ɑ) = 0.050 and p-value = 0.000\n",
      "We Reject NULL Hypothesis, We have enough evidence to determine that recorded TAT reports from 4 laboratories are not same\n"
     ]
    }
   ],
   "source": [
    "alpha = 0.05\n",
    "print('The Significance level (ɑ) = %.3f and p-value = %.3f' %(alpha, p_value))\n",
    "if p_value<= alpha:\n",
    "    print('We Reject NULL Hypothesis, We have enough evidence to determine that recorded TAT reports from 4 laboratories are not same')\n",
    "else:\n",
    "     print('We Accept NULL Hypothesis, We have enough evidence to determine that recorded TAT reports from 4 laboratories are same')\n"
   ]
  },
  {
   "cell_type": "markdown",
   "id": "d1a48a24",
   "metadata": {},
   "source": [
    "# "
   ]
  },
  {
   "cell_type": "markdown",
   "id": "1c14972a",
   "metadata": {},
   "source": [
    "# "
   ]
  },
  {
   "cell_type": "markdown",
   "id": "20047880",
   "metadata": {},
   "source": [
    "# "
   ]
  },
  {
   "cell_type": "markdown",
   "id": "df36f6bf",
   "metadata": {},
   "source": [
    "# Question 3"
   ]
  },
  {
   "cell_type": "markdown",
   "id": "76adffc4",
   "metadata": {},
   "source": [
    "## Sales of products in four different regions is tabulated for males and females. Find if male-female buyer rations are similar across regions.\n"
   ]
  },
  {
   "cell_type": "markdown",
   "id": "3ac30b34",
   "metadata": {},
   "source": [
    "### ANS : We are going to perform Chi-Square Test for this problem"
   ]
  },
  {
   "cell_type": "markdown",
   "id": "7b8a7e94",
   "metadata": {},
   "source": [
    "###### Importing Data"
   ]
  },
  {
   "cell_type": "code",
   "execution_count": 23,
   "id": "ae0ddda8",
   "metadata": {},
   "outputs": [
    {
     "data": {
      "text/html": [
       "<div>\n",
       "<style scoped>\n",
       "    .dataframe tbody tr th:only-of-type {\n",
       "        vertical-align: middle;\n",
       "    }\n",
       "\n",
       "    .dataframe tbody tr th {\n",
       "        vertical-align: top;\n",
       "    }\n",
       "\n",
       "    .dataframe thead th {\n",
       "        text-align: right;\n",
       "    }\n",
       "</style>\n",
       "<table border=\"1\" class=\"dataframe\">\n",
       "  <thead>\n",
       "    <tr style=\"text-align: right;\">\n",
       "      <th></th>\n",
       "      <th>Observed Values</th>\n",
       "      <th>East</th>\n",
       "      <th>West</th>\n",
       "      <th>North</th>\n",
       "      <th>South</th>\n",
       "    </tr>\n",
       "  </thead>\n",
       "  <tbody>\n",
       "    <tr>\n",
       "      <th>0</th>\n",
       "      <td>Males</td>\n",
       "      <td>50</td>\n",
       "      <td>142</td>\n",
       "      <td>131</td>\n",
       "      <td>70</td>\n",
       "    </tr>\n",
       "    <tr>\n",
       "      <th>1</th>\n",
       "      <td>Females</td>\n",
       "      <td>435</td>\n",
       "      <td>1523</td>\n",
       "      <td>1356</td>\n",
       "      <td>750</td>\n",
       "    </tr>\n",
       "  </tbody>\n",
       "</table>\n",
       "</div>"
      ],
      "text/plain": [
       "  Observed Values  East  West  North  South\n",
       "0           Males    50   142    131     70\n",
       "1         Females   435  1523   1356    750"
      ]
     },
     "execution_count": 23,
     "metadata": {},
     "output_type": "execute_result"
    }
   ],
   "source": [
    "buyer = pd.read_csv('BuyerRatio.csv')\n",
    "buyer"
   ]
  },
  {
   "cell_type": "markdown",
   "id": "f91481b3",
   "metadata": {},
   "source": [
    "### Assumptions"
   ]
  },
  {
   "cell_type": "markdown",
   "id": "9aed505f",
   "metadata": {},
   "source": [
    "###### NULL Hypothesis (H0): There is no significant Association between Male-Female buyer ratios across regions\n",
    "###### ALTERNATE Hypothesis (H1) : There is a significant Association between Male-Female buyer ratios across regions"
   ]
  },
  {
   "cell_type": "markdown",
   "id": "751e6036",
   "metadata": {},
   "source": [
    "###### We are taking Significance level of 5% "
   ]
  },
  {
   "cell_type": "markdown",
   "id": "1fac1e90",
   "metadata": {},
   "source": [
    "###### Applying Chi-Square Contingency to get expected values   "
   ]
  },
  {
   "cell_type": "code",
   "execution_count": 24,
   "id": "00047eba",
   "metadata": {},
   "outputs": [
    {
     "name": "stdout",
     "output_type": "stream",
     "text": [
      "test statistic is 1.595946, p-value is 0.660309, degree of freedom is 3 \n",
      " and expected values are \n",
      " [[  42.76531299  146.81287862  131.11756787   72.30424052]\n",
      " [ 442.23468701 1518.18712138 1355.88243213  747.69575948]]\n"
     ]
    }
   ],
   "source": [
    "stat, p, df, exp = stats.chi2_contingency(buyer.iloc[:,1:])\n",
    "print('test statistic is %f, p-value is %f, degree of freedom is %d' %(stat,p,df),'\\n and expected values are \\n', exp)"
   ]
  },
  {
   "cell_type": "markdown",
   "id": "2abd77df",
   "metadata": {},
   "source": [
    "###### Now creating arrays of observed and expected values"
   ]
  },
  {
   "cell_type": "code",
   "execution_count": 25,
   "id": "9040299d",
   "metadata": {},
   "outputs": [],
   "source": [
    "observed = np.array([50,142,131,70,435,1523,1356,750])\n",
    "expected = np.array([42.76531299 , 146.81287862 ,  131.11756787  , 72.30424052, 442.23468701 ,1518.18712138, 1355.88243213,  747.69575948])"
   ]
  },
  {
   "cell_type": "markdown",
   "id": "e2ee9509",
   "metadata": {},
   "source": [
    "#### Performing Chi-Square test "
   ]
  },
  {
   "cell_type": "code",
   "execution_count": 26,
   "id": "8d3e813b",
   "metadata": {},
   "outputs": [
    {
     "name": "stdout",
     "output_type": "stream",
     "text": [
      "Test Statistic is 1.595946 \n",
      " P-Value is 0.809521\n"
     ]
    }
   ],
   "source": [
    "statistic, p_value = stats.chisquare(observed,expected,ddof=df)\n",
    "print('Test Statistic is %f \\n P-Value is %f' %(statistic,p_value))"
   ]
  },
  {
   "cell_type": "markdown",
   "id": "4328fbe8",
   "metadata": {},
   "source": [
    "###### Since significance value is 5% , Alpha = 0.05"
   ]
  },
  {
   "cell_type": "code",
   "execution_count": 27,
   "id": "5f47713e",
   "metadata": {},
   "outputs": [
    {
     "name": "stdout",
     "output_type": "stream",
     "text": [
      "We Fail to reject NULL Hypothesis as there is \"NO\" significant Association betweem Male-Female buying ratio across the Regions\n"
     ]
    }
   ],
   "source": [
    " alpha = 0.05\n",
    "if p_value<= alpha:\n",
    "    print('We reject NULL Hypothesis as there is a Significant Association betweem Male-Female buying ratio across the Regions')\n",
    "else:\n",
    "    print('We Fail to reject NULL Hypothesis as there is \"NO\" significant Association betweem Male-Female buying ratio across the Regions')"
   ]
  },
  {
   "cell_type": "markdown",
   "id": "2a1d4adc",
   "metadata": {},
   "source": [
    "# "
   ]
  },
  {
   "cell_type": "markdown",
   "id": "bc1b3c1f",
   "metadata": {},
   "source": [
    "# "
   ]
  },
  {
   "cell_type": "markdown",
   "id": "ff264f3f",
   "metadata": {},
   "source": [
    "# Question 4"
   ]
  },
  {
   "cell_type": "markdown",
   "id": "eaee2b48",
   "metadata": {},
   "source": [
    "###     TeleCall uses 4 centers around the globe to process customer order forms. They audit a certain %  of the customer order forms. Any error in order form renders it defective and has to be reworked before processing.  The manager wants to check whether the defective %  varies by centre. Please analyze the data at 5% significance level and help the manager draw appropriate inferences\n"
   ]
  },
  {
   "cell_type": "markdown",
   "id": "e7b7b72f",
   "metadata": {},
   "source": [
    "### ANS : We are going to perform Chi-Square Test for this problem"
   ]
  },
  {
   "cell_type": "markdown",
   "id": "8df13e36",
   "metadata": {},
   "source": [
    "###### Importing data  "
   ]
  },
  {
   "cell_type": "code",
   "execution_count": 28,
   "id": "0e415252",
   "metadata": {},
   "outputs": [
    {
     "data": {
      "text/html": [
       "<div>\n",
       "<style scoped>\n",
       "    .dataframe tbody tr th:only-of-type {\n",
       "        vertical-align: middle;\n",
       "    }\n",
       "\n",
       "    .dataframe tbody tr th {\n",
       "        vertical-align: top;\n",
       "    }\n",
       "\n",
       "    .dataframe thead th {\n",
       "        text-align: right;\n",
       "    }\n",
       "</style>\n",
       "<table border=\"1\" class=\"dataframe\">\n",
       "  <thead>\n",
       "    <tr style=\"text-align: right;\">\n",
       "      <th></th>\n",
       "      <th>Phillippines</th>\n",
       "      <th>Indonesia</th>\n",
       "      <th>Malta</th>\n",
       "      <th>India</th>\n",
       "    </tr>\n",
       "  </thead>\n",
       "  <tbody>\n",
       "    <tr>\n",
       "      <th>0</th>\n",
       "      <td>Error Free</td>\n",
       "      <td>Error Free</td>\n",
       "      <td>Defective</td>\n",
       "      <td>Error Free</td>\n",
       "    </tr>\n",
       "    <tr>\n",
       "      <th>1</th>\n",
       "      <td>Error Free</td>\n",
       "      <td>Error Free</td>\n",
       "      <td>Error Free</td>\n",
       "      <td>Defective</td>\n",
       "    </tr>\n",
       "    <tr>\n",
       "      <th>2</th>\n",
       "      <td>Error Free</td>\n",
       "      <td>Defective</td>\n",
       "      <td>Defective</td>\n",
       "      <td>Error Free</td>\n",
       "    </tr>\n",
       "    <tr>\n",
       "      <th>3</th>\n",
       "      <td>Error Free</td>\n",
       "      <td>Error Free</td>\n",
       "      <td>Error Free</td>\n",
       "      <td>Error Free</td>\n",
       "    </tr>\n",
       "    <tr>\n",
       "      <th>4</th>\n",
       "      <td>Error Free</td>\n",
       "      <td>Error Free</td>\n",
       "      <td>Defective</td>\n",
       "      <td>Error Free</td>\n",
       "    </tr>\n",
       "    <tr>\n",
       "      <th>...</th>\n",
       "      <td>...</td>\n",
       "      <td>...</td>\n",
       "      <td>...</td>\n",
       "      <td>...</td>\n",
       "    </tr>\n",
       "    <tr>\n",
       "      <th>295</th>\n",
       "      <td>Error Free</td>\n",
       "      <td>Error Free</td>\n",
       "      <td>Error Free</td>\n",
       "      <td>Error Free</td>\n",
       "    </tr>\n",
       "    <tr>\n",
       "      <th>296</th>\n",
       "      <td>Error Free</td>\n",
       "      <td>Error Free</td>\n",
       "      <td>Error Free</td>\n",
       "      <td>Error Free</td>\n",
       "    </tr>\n",
       "    <tr>\n",
       "      <th>297</th>\n",
       "      <td>Error Free</td>\n",
       "      <td>Error Free</td>\n",
       "      <td>Defective</td>\n",
       "      <td>Error Free</td>\n",
       "    </tr>\n",
       "    <tr>\n",
       "      <th>298</th>\n",
       "      <td>Error Free</td>\n",
       "      <td>Error Free</td>\n",
       "      <td>Error Free</td>\n",
       "      <td>Error Free</td>\n",
       "    </tr>\n",
       "    <tr>\n",
       "      <th>299</th>\n",
       "      <td>Error Free</td>\n",
       "      <td>Defective</td>\n",
       "      <td>Defective</td>\n",
       "      <td>Error Free</td>\n",
       "    </tr>\n",
       "  </tbody>\n",
       "</table>\n",
       "<p>300 rows × 4 columns</p>\n",
       "</div>"
      ],
      "text/plain": [
       "    Phillippines   Indonesia       Malta       India\n",
       "0     Error Free  Error Free   Defective  Error Free\n",
       "1     Error Free  Error Free  Error Free   Defective\n",
       "2     Error Free   Defective   Defective  Error Free\n",
       "3     Error Free  Error Free  Error Free  Error Free\n",
       "4     Error Free  Error Free   Defective  Error Free\n",
       "..           ...         ...         ...         ...\n",
       "295   Error Free  Error Free  Error Free  Error Free\n",
       "296   Error Free  Error Free  Error Free  Error Free\n",
       "297   Error Free  Error Free   Defective  Error Free\n",
       "298   Error Free  Error Free  Error Free  Error Free\n",
       "299   Error Free   Defective   Defective  Error Free\n",
       "\n",
       "[300 rows x 4 columns]"
      ]
     },
     "execution_count": 28,
     "metadata": {},
     "output_type": "execute_result"
    }
   ],
   "source": [
    "data = pd.read_csv('Costomer+OrderForm.csv')\n",
    "data"
   ]
  },
  {
   "cell_type": "code",
   "execution_count": 29,
   "id": "34abbd9d",
   "metadata": {},
   "outputs": [
    {
     "name": "stdout",
     "output_type": "stream",
     "text": [
      "<class 'pandas.core.frame.DataFrame'>\n",
      "RangeIndex: 300 entries, 0 to 299\n",
      "Data columns (total 4 columns):\n",
      " #   Column        Non-Null Count  Dtype \n",
      "---  ------        --------------  ----- \n",
      " 0   Phillippines  300 non-null    object\n",
      " 1   Indonesia     300 non-null    object\n",
      " 2   Malta         300 non-null    object\n",
      " 3   India         300 non-null    object\n",
      "dtypes: object(4)\n",
      "memory usage: 9.5+ KB\n"
     ]
    }
   ],
   "source": [
    "data.info()"
   ]
  },
  {
   "cell_type": "markdown",
   "id": "31416f9f",
   "metadata": {},
   "source": [
    "###### Descriptive Analysis"
   ]
  },
  {
   "cell_type": "code",
   "execution_count": 30,
   "id": "c076ac09",
   "metadata": {},
   "outputs": [
    {
     "data": {
      "text/html": [
       "<div>\n",
       "<style scoped>\n",
       "    .dataframe tbody tr th:only-of-type {\n",
       "        vertical-align: middle;\n",
       "    }\n",
       "\n",
       "    .dataframe tbody tr th {\n",
       "        vertical-align: top;\n",
       "    }\n",
       "\n",
       "    .dataframe thead th {\n",
       "        text-align: right;\n",
       "    }\n",
       "</style>\n",
       "<table border=\"1\" class=\"dataframe\">\n",
       "  <thead>\n",
       "    <tr style=\"text-align: right;\">\n",
       "      <th></th>\n",
       "      <th>Phillippines</th>\n",
       "      <th>Indonesia</th>\n",
       "      <th>Malta</th>\n",
       "      <th>India</th>\n",
       "    </tr>\n",
       "  </thead>\n",
       "  <tbody>\n",
       "    <tr>\n",
       "      <th>count</th>\n",
       "      <td>300</td>\n",
       "      <td>300</td>\n",
       "      <td>300</td>\n",
       "      <td>300</td>\n",
       "    </tr>\n",
       "    <tr>\n",
       "      <th>unique</th>\n",
       "      <td>2</td>\n",
       "      <td>2</td>\n",
       "      <td>2</td>\n",
       "      <td>2</td>\n",
       "    </tr>\n",
       "    <tr>\n",
       "      <th>top</th>\n",
       "      <td>Error Free</td>\n",
       "      <td>Error Free</td>\n",
       "      <td>Error Free</td>\n",
       "      <td>Error Free</td>\n",
       "    </tr>\n",
       "    <tr>\n",
       "      <th>freq</th>\n",
       "      <td>271</td>\n",
       "      <td>267</td>\n",
       "      <td>269</td>\n",
       "      <td>280</td>\n",
       "    </tr>\n",
       "  </tbody>\n",
       "</table>\n",
       "</div>"
      ],
      "text/plain": [
       "       Phillippines   Indonesia       Malta       India\n",
       "count           300         300         300         300\n",
       "unique            2           2           2           2\n",
       "top      Error Free  Error Free  Error Free  Error Free\n",
       "freq            271         267         269         280"
      ]
     },
     "execution_count": 30,
     "metadata": {},
     "output_type": "execute_result"
    }
   ],
   "source": [
    "data.describe()"
   ]
  },
  {
   "cell_type": "markdown",
   "id": "bcb47496",
   "metadata": {},
   "source": [
    "###### Checking for NULL values "
   ]
  },
  {
   "cell_type": "code",
   "execution_count": 31,
   "id": "2b8a6483",
   "metadata": {},
   "outputs": [
    {
     "data": {
      "text/plain": [
       "Phillippines    0\n",
       "Indonesia       0\n",
       "Malta           0\n",
       "India           0\n",
       "dtype: int64"
      ]
     },
     "execution_count": 31,
     "metadata": {},
     "output_type": "execute_result"
    }
   ],
   "source": [
    "data.isnull().sum()"
   ]
  },
  {
   "cell_type": "markdown",
   "id": "dad65d5f",
   "metadata": {},
   "source": [
    "###### Value count"
   ]
  },
  {
   "cell_type": "code",
   "execution_count": 32,
   "id": "32dca500",
   "metadata": {},
   "outputs": [
    {
     "name": "stdout",
     "output_type": "stream",
     "text": [
      "Error Free    271\n",
      "Defective      29\n",
      "Name: Phillippines, dtype: int64 \n",
      " Error Free    267\n",
      "Defective      33\n",
      "Name: Indonesia, dtype: int64 \n",
      " Error Free    269\n",
      "Defective      31\n",
      "Name: Malta, dtype: int64 \n",
      " Error Free    280\n",
      "Defective      20\n",
      "Name: India, dtype: int64\n"
     ]
    }
   ],
   "source": [
    "print(data['Phillippines'].value_counts() ,'\\n', data['Indonesia'].value_counts(), '\\n' , data['Malta'].value_counts(), '\\n', data['India'].value_counts() )"
   ]
  },
  {
   "cell_type": "markdown",
   "id": "b1802666",
   "metadata": {},
   "source": [
    "### Assumptions"
   ]
  },
  {
   "cell_type": "markdown",
   "id": "f9c9e827",
   "metadata": {},
   "source": [
    "###### NULL Hypothesis (H0): There is no significant evidence that the defective % varies by centre\n",
    "###### ALTERNATE Hypothesis (H1) : There is a significant evidence that the defective % varies by centre\n"
   ]
  },
  {
   "cell_type": "markdown",
   "id": "fdede86d",
   "metadata": {},
   "source": [
    "###### We are taking Significance level of 5%"
   ]
  },
  {
   "cell_type": "markdown",
   "id": "d176df3e",
   "metadata": {},
   "source": [
    "###### Applying Chi-Square Contingency to get expected values"
   ]
  },
  {
   "cell_type": "code",
   "execution_count": 33,
   "id": "744f0438",
   "metadata": {},
   "outputs": [],
   "source": [
    "con_table = [[271,267,269,280]\n",
    "            ,[29,33,31,20]]"
   ]
  },
  {
   "cell_type": "code",
   "execution_count": 34,
   "id": "80ee6056",
   "metadata": {},
   "outputs": [
    {
     "name": "stdout",
     "output_type": "stream",
     "text": [
      "test statistic is 3.858961, \n",
      " p-value is 0.277102, \n",
      " degree of freedom is 3 , \n",
      " and expected values are \n",
      " [[271.75 271.75 271.75 271.75]\n",
      " [ 28.25  28.25  28.25  28.25]]\n"
     ]
    }
   ],
   "source": [
    "stat, p, df, exp = stats.chi2_contingency(con_table)\n",
    "print('test statistic is %f, \\n p-value is %f, \\n degree of freedom is %d ,' %(stat,p,df),'\\n and expected values are \\n', exp)"
   ]
  },
  {
   "cell_type": "markdown",
   "id": "9585a626",
   "metadata": {},
   "source": [
    "###### Now creating arrays of observed and expected values"
   ]
  },
  {
   "cell_type": "code",
   "execution_count": 35,
   "id": "d15c5264",
   "metadata": {},
   "outputs": [],
   "source": [
    "observed = np.array([271,267,269,280,29,33,31,20])\n",
    "expected = np.array([271.75, 271.75, 271.75, 271.75 ,28.25,  28.25,  28.25,  28.25])"
   ]
  },
  {
   "cell_type": "code",
   "execution_count": 36,
   "id": "a5bdf315",
   "metadata": {},
   "outputs": [
    {
     "name": "stdout",
     "output_type": "stream",
     "text": [
      "Test Statistic is 3.858961 \n",
      " P-Value is 0.425430\n"
     ]
    }
   ],
   "source": [
    "statistic, p_value = stats.chisquare(observed,expected,ddof=df)\n",
    "print('Test Statistic is %f \\n P-Value is %f' %(statistic,p_value))"
   ]
  },
  {
   "cell_type": "markdown",
   "id": "3cae2991",
   "metadata": {},
   "source": [
    "###### Performing Chi-Square test"
   ]
  },
  {
   "cell_type": "markdown",
   "id": "1c7ac197",
   "metadata": {},
   "source": [
    "###### Since significance value is 5% , Alpha = 0.05"
   ]
  },
  {
   "cell_type": "code",
   "execution_count": 37,
   "id": "1765bd7d",
   "metadata": {},
   "outputs": [
    {
     "name": "stdout",
     "output_type": "stream",
     "text": [
      "We FAIL to reject NULL Hypothesis as there is \"NO\" Significant evidence that the defective % varies by centre.\n"
     ]
    }
   ],
   "source": [
    "alpha = 0.05\n",
    "if p_value<= alpha:\n",
    "    print('We reject NULL Hypothesis as there is a Significant evidence that the defective % varies by centre.')\n",
    "else:\n",
    "    print('We FAIL to reject NULL Hypothesis as there is \"NO\" Significant evidence that the defective % varies by centre.')\n"
   ]
  }
 ],
 "metadata": {
  "kernelspec": {
   "display_name": "Python 3 (ipykernel)",
   "language": "python",
   "name": "python3"
  },
  "language_info": {
   "codemirror_mode": {
    "name": "ipython",
    "version": 3
   },
   "file_extension": ".py",
   "mimetype": "text/x-python",
   "name": "python",
   "nbconvert_exporter": "python",
   "pygments_lexer": "ipython3",
   "version": "3.9.13"
  }
 },
 "nbformat": 4,
 "nbformat_minor": 5
}
